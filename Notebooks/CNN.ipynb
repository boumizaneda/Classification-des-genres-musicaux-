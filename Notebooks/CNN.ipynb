{
 "cells": [
  {
   "cell_type": "code",
   "execution_count": 13,
   "metadata": {
    "id": "kqC2jkXtZtqV"
   },
   "outputs": [],
   "source": [
    "\n",
    "import os #Pour le Mapping \n",
    "import h5py #Stockage du data \n",
    "import librosa # for music and audio analysis\n",
    "import itertools #Function creating iterators  \n",
    "from copy import copy \n",
    "import numpy as np\n",
    "import matplotlib.pyplot as plt\n",
    "from collections import OrderedDict #store collections of data\n",
    "from sklearn.model_selection import train_test_split\n",
    "from sklearn.metrics import confusion_matrix"
   ]
  },
  {
   "cell_type": "code",
   "execution_count": 14,
   "metadata": {
    "id": "K5LqUrhFZtqX"
   },
   "outputs": [],
   "source": [
    "#Importer les biblios relatifs au tensorflow \n",
    "import tensorflow as tf\n",
    "#Importer les couches du CNN from keras \n",
    "from tensorflow.keras.utils import to_categorical\n",
    "from tensorflow.keras.models import Model\n",
    "from tensorflow.keras.layers import Input\n",
    "from tensorflow.keras.models import Sequential\n",
    "from tensorflow.keras.layers import Add\n",
    "from tensorflow.keras.layers import Dense\n",
    "from tensorflow.keras.layers import Activation\n",
    "from tensorflow.keras.layers import PReLU\n",
    "from tensorflow.keras.layers import Conv2D\n",
    "from tensorflow.keras.layers import MaxPooling2D\n",
    "from tensorflow.keras.layers import AveragePooling2D\n",
    "from tensorflow.keras.layers import GlobalAveragePooling2D\n",
    "from tensorflow.keras.layers import GlobalMaxPooling2D\n",
    "from tensorflow.keras.layers import Dropout\n",
    "from tensorflow.keras.layers import Flatten\n",
    "from tensorflow.keras.layers import BatchNormalization\n",
    "from tensorflow.keras.callbacks import ReduceLROnPlateau"
   ]
  },
  {
   "cell_type": "markdown",
   "metadata": {
    "id": "FwOfX3QXZtqa"
   },
   "source": [
    "# Read the data\n",
    "\n",
    "Lire le data , diviser et retourner un tableau de melspectrograms"
   ]
  },
  {
   "cell_type": "code",
   "execution_count": 16,
   "metadata": {
    "id": "msY2ZnDDZtqc"
   },
   "outputs": [],
   "source": [
    "#Diviser la music en mourceau en utilisant overlapping windows\n",
    "def splitsongs(X, y, window = 0.05, overlap = 0.5):\n",
    "    temp_X = []\n",
    "    temp_y = []\n",
    "\n",
    "    # Get the input song array size\n",
    "    xshape = X.shape[0]\n",
    "    chunk = int(xshape*window)\n",
    "    offset = int(chunk*(1.-overlap))\n",
    "    \n",
    "    # Diviser et créer des nouveaux mourceaux \n",
    "    spsong = [X[i:i+chunk] for i in range(0, xshape - chunk + offset, offset)]\n",
    "    for s in spsong:\n",
    "        if s.shape[0] != chunk:\n",
    "            continue\n",
    "\n",
    "        temp_X.append(s)\n",
    "        temp_y.append(y)\n",
    "\n",
    "    return np.array(temp_X), np.array(temp_y)"
   ]
  },
  {
   "cell_type": "code",
   "execution_count": 17,
   "metadata": {
    "id": "dFCN3_5MZtqd"
   },
   "outputs": [],
   "source": [
    "#Convertir une liste de musiques en array de melspectograms \n",
    "def to_melspectrogram(songs, n_fft=1024, hop_length=256):\n",
    "    # Fonction de transformation \n",
    "    melspec = lambda x: librosa.feature.melspectrogram(x, n_fft=n_fft, hop_length=hop_length, n_mels=128)[:,:,np.newaxis]\n",
    "\n",
    "    # melspectrogram avec log-scale\n",
    "    tsongs = map(melspec, songs)\n",
    "    return np.array(list(tsongs))"
   ]
  },
  {
   "cell_type": "code",
   "execution_count": 18,
   "metadata": {
    "id": "gtomZ37_Ztqe"
   },
   "outputs": [],
   "source": [
    "def split_convert(X, y):\n",
    "    arr_specs, arr_genres = [], []\n",
    "    \n",
    "    # Convertir en spectrograms et diviser en petits windows\n",
    "    for fn, genre in zip(X, y):\n",
    "        signal, sr = librosa.load(fn)\n",
    "        signal = signal[:song_samples]\n",
    "\n",
    "        # dataset de melspectograms\n",
    "        signals, y = splitsongs(signal, genre)\n",
    "\n",
    "        # Convert to \"spec\" representation\n",
    "        specs = to_melspectrogram(signals)\n",
    "\n",
    "        # Enregistrer les fichiers \n",
    "        arr_genres.extend(y)\n",
    "        arr_specs.extend(specs)\n",
    "    \n",
    "    return np.array(arr_specs), to_categorical(arr_genres)"
   ]
  },
  {
   "cell_type": "code",
   "execution_count": 19,
   "metadata": {
    "id": "10IKuxceZtqf"
   },
   "outputs": [],
   "source": [
    "def read_data(src_dir, genres, song_samples):    \n",
    "\n",
    "    arr_fn = []\n",
    "    arr_genres = []\n",
    "\n",
    "    # Mapper les fichiers de chaque dossier \n",
    "    for x,_ in genres.items():\n",
    "        folder = src_dir + x\n",
    "        for root, subdirs, files in os.walk(folder):\n",
    "            for file in files:\n",
    "                file_name = folder + \"/\" + file\n",
    "\n",
    "                #Enregistrer le nom de fichier et le genre correspondant \n",
    "                arr_fn.append(file_name)\n",
    "                arr_genres.append(genres[x])\n",
    "    \n",
    "    #Diviser en train et test \n",
    "    X_train, X_test, y_train, y_test = train_test_split(\n",
    "        arr_fn, arr_genres, test_size=0.3, random_state=42, stratify=arr_genres\n",
    "    )\n",
    "    \n",
    "    # Diviser en petit segments et convertir en spectrogram\n",
    "    X_train, y_train = split_convert(X_train, y_train)\n",
    "    X_test, y_test = split_convert(X_test, y_test)\n",
    "\n",
    "    return X_train, X_test, y_train, y_test"
   ]
  },
  {
   "cell_type": "code",
   "execution_count": 20,
   "metadata": {
    "colab": {
     "base_uri": "https://localhost:8080/",
     "height": 374
    },
    "id": "3CbtFsGFZtqg",
    "outputId": "4b04fc2e-1397-4e26-c832-e0fb2d005bf4"
   },
   "outputs": [],
   "source": [
    "from keras.models import Sequential\n",
    "from keras.layers import Dense, Dropout, Activation\n",
    "from keras.optimizers import SGD\n",
    "#Path\n",
    "gtzan_dir = '../CNN/genres/'\n",
    "#Paramètres \n",
    "song_samples = 660000\n",
    "genres = {'metal': 0, 'disco': 1, 'classical': 2, 'hiphop': 3, 'jazz': 4, \n",
    "          'country': 5, 'pop': 6, 'blues': 7, 'reggae': 8, 'rock': 9}\n",
    "\n",
    "X_train, X_test, y_train, y_test = read_data(gtzan_dir, genres, song_samples)"
   ]
  },
  {
   "cell_type": "code",
   "execution_count": 21,
   "metadata": {
    "id": "itEHRWKQZtqh",
    "outputId": "36457c21-3d2f-4123-b29e-2802c1d92630"
   },
   "outputs": [
    {
     "name": "stdout",
     "output_type": "stream",
     "text": [
      "(27300, 128, 129, 1) (11700, 128, 129, 1) (27300, 10) (11700, 10)\n"
     ]
    }
   ],
   "source": [
    "print(X_train.shape, X_test.shape, y_train.shape, y_test.shape)"
   ]
  },
  {
   "cell_type": "code",
   "execution_count": 22,
   "metadata": {
    "id": "upw2w53TZtqi",
    "outputId": "4eff1743-fd55-44eb-c416-645b8f24bf9a"
   },
   "outputs": [
    {
     "data": {
      "image/png": "[encoded data removed]",
      "text/plain": [
       "<Figure size 432x288 with 1 Axes>"
      ]
     },
     "metadata": {
      "needs_background": "light"
     },
     "output_type": "display_data"
    }
   ],
   "source": [
    "# Histogramme pour le train et le test \n",
    "values, count = np.unique(np.argmax(y_train, axis=1), return_counts=True)\n",
    "plt.bar(values, count)\n",
    "values, count = np.unique(np.argmax(y_test, axis=1), return_counts=True)\n",
    "plt.bar(values, count)\n",
    "plt.show()"
   ]
  },
  {
   "cell_type": "code",
   "execution_count": 23,
   "metadata": {
    "id": "DyG9E-yrZtqj"
   },
   "outputs": [],
   "source": [
    "#GTZAN Melspectrogram Generator\n",
    "from tensorflow.keras.utils import Sequence\n",
    "\n",
    "class GTZANGenerator(Sequence):\n",
    "    \n",
    "    def __init__(self, X, y, batch_size=64, is_test = False):\n",
    "        self.X = X\n",
    "        self.y = y\n",
    "        self.batch_size = batch_size\n",
    "        self.is_test = is_test\n",
    "    \n",
    "    def __len__(self):\n",
    "        return int(np.ceil(len(self.X)/self.batch_size))\n",
    "    \n",
    "    def __getitem__(self, index):\n",
    "        # Get batch indexes\n",
    "        signals = self.X[index*self.batch_size:(index+1)*self.batch_size]\n",
    "\n",
    "        # Apply data augmentation\n",
    "        if not self.is_test:\n",
    "            signals = self.__augment(signals)\n",
    "        return signals, self.y[index*self.batch_size:(index+1)*self.batch_size]\n",
    "    \n",
    "    def __augment(self, signals, hor_flip = 0.5, random_cutout = 0.5):\n",
    "        spectrograms =  []\n",
    "        for s in signals:\n",
    "            signal = copy(s)\n",
    "            \n",
    "            if np.random.rand() < hor_flip:\n",
    "                signal = np.flip(signal, 1)\n",
    "\n",
    "            if np.random.rand() < random_cutout:\n",
    "                lines = np.random.randint(signal.shape[0], size=3)\n",
    "                cols = np.random.randint(signal.shape[0], size=4)\n",
    "                signal[lines, :, :] = -80 # dB\n",
    "                signal[:, cols, :] = -80 # dB\n",
    "\n",
    "            spectrograms.append(signal)\n",
    "        return np.array(spectrograms)\n",
    "    \n",
    "    def on_epoch_end(self):\n",
    "        self.indexes = np.arange(len(self.X))\n",
    "        np.random.shuffle(self.indexes)\n",
    "        return None"
   ]
  },
  {
   "cell_type": "markdown",
   "metadata": {
    "id": "c2fHlaFLZtqk"
   },
   "source": [
    "# CNN"
   ]
  },
  {
   "cell_type": "code",
   "execution_count": 24,
   "metadata": {
    "id": "zzcVchxIZtql"
   },
   "outputs": [],
   "source": [
    "#Définition de 4 couches pour le CNN \n",
    "def conv_block(x, n_filters, pool_size=(2, 2)):\n",
    "    x = Conv2D(n_filters, (3, 3), strides=(1, 1), padding='same')(x)\n",
    "    x = Activation('relu')(x)\n",
    "    x = MaxPooling2D(pool_size=pool_size, strides=pool_size)(x)\n",
    "    x = Dropout(0.25)(x)\n",
    "    return x"
   ]
  },
  {
   "cell_type": "code",
   "execution_count": 25,
   "metadata": {
    "id": "95DynZyhZtqm"
   },
   "outputs": [],
   "source": [
    "#Définition du modèle\n",
    "\n",
    "def create_model(input_shape, num_genres):\n",
    "    inpt = Input(shape=input_shape)\n",
    "    x = conv_block(inpt, 16)\n",
    "    x = conv_block(x, 32)\n",
    "    x = conv_block(x, 64)\n",
    "    x = conv_block(x, 128)\n",
    "    x = conv_block(x, 256)\n",
    "    \n",
    "    #  Pooling and MLP\n",
    "    x = Flatten()(x)\n",
    "    x = Dropout(0.5)(x)\n",
    "    x = Dense(512, activation='relu', \n",
    "              kernel_regularizer=tf.keras.regularizers.l2(0.02))(x)\n",
    "    x = Dropout(0.25)(x)\n",
    "    predictions = Dense(num_genres, \n",
    "                        activation='softmax', \n",
    "                        kernel_regularizer=tf.keras.regularizers.l2(0.02))(x)\n",
    "    \n",
    "    model = Model(inputs=inpt, outputs=predictions)\n",
    "    return model"
   ]
  },
  {
   "cell_type": "code",
   "execution_count": 26,
   "metadata": {
    "id": "sL6ujEQ_Ztqm"
   },
   "outputs": [],
   "source": [
    "model = create_model(X_train[0].shape, 10)"
   ]
  },
  {
   "cell_type": "code",
   "execution_count": 27,
   "metadata": {
    "id": "zsnIluWUZtqn",
    "outputId": "848cbfaf-be7c-4b62-88a4-fd0600e16aa6"
   },
   "outputs": [
    {
     "name": "stdout",
     "output_type": "stream",
     "text": [
      "Model: \"model\"\n",
      "_________________________________________________________________\n",
      "Layer (type)                 Output Shape              Param #   \n",
      "=================================================================\n",
      "input_1 (InputLayer)         [(None, 128, 129, 1)]     0         \n",
      "_________________________________________________________________\n",
      "conv2d (Conv2D)              (None, 128, 129, 16)      160       \n",
      "_________________________________________________________________\n",
      "activation (Activation)      (None, 128, 129, 16)      0         \n",
      "_________________________________________________________________\n",
      "max_pooling2d (MaxPooling2D) (None, 64, 64, 16)        0         \n",
      "_________________________________________________________________\n",
      "dropout (Dropout)            (None, 64, 64, 16)        0         \n",
      "_________________________________________________________________\n",
      "conv2d_1 (Conv2D)            (None, 64, 64, 32)        4640      \n",
      "_________________________________________________________________\n",
      "activation_1 (Activation)    (None, 64, 64, 32)        0         \n",
      "_________________________________________________________________\n",
      "max_pooling2d_1 (MaxPooling2 (None, 32, 32, 32)        0         \n",
      "_________________________________________________________________\n",
      "dropout_1 (Dropout)          (None, 32, 32, 32)        0         \n",
      "_________________________________________________________________\n",
      "conv2d_2 (Conv2D)            (None, 32, 32, 64)        18496     \n",
      "_________________________________________________________________\n",
      "activation_2 (Activation)    (None, 32, 32, 64)        0         \n",
      "_________________________________________________________________\n",
      "max_pooling2d_2 (MaxPooling2 (None, 16, 16, 64)        0         \n",
      "_________________________________________________________________\n",
      "dropout_2 (Dropout)          (None, 16, 16, 64)        0         \n",
      "_________________________________________________________________\n",
      "conv2d_3 (Conv2D)            (None, 16, 16, 128)       73856     \n",
      "_________________________________________________________________\n",
      "activation_3 (Activation)    (None, 16, 16, 128)       0         \n",
      "_________________________________________________________________\n",
      "max_pooling2d_3 (MaxPooling2 (None, 8, 8, 128)         0         \n",
      "_________________________________________________________________\n",
      "dropout_3 (Dropout)          (None, 8, 8, 128)         0         \n",
      "_________________________________________________________________\n",
      "conv2d_4 (Conv2D)            (None, 8, 8, 256)         295168    \n",
      "_________________________________________________________________\n",
      "activation_4 (Activation)    (None, 8, 8, 256)         0         \n",
      "_________________________________________________________________\n",
      "max_pooling2d_4 (MaxPooling2 (None, 4, 4, 256)         0         \n",
      "_________________________________________________________________\n",
      "dropout_4 (Dropout)          (None, 4, 4, 256)         0         \n",
      "_________________________________________________________________\n",
      "flatten (Flatten)            (None, 4096)              0         \n",
      "_________________________________________________________________\n",
      "dropout_5 (Dropout)          (None, 4096)              0         \n",
      "_________________________________________________________________\n",
      "dense (Dense)                (None, 512)               2097664   \n",
      "_________________________________________________________________\n",
      "dropout_6 (Dropout)          (None, 512)               0         \n",
      "_________________________________________________________________\n",
      "dense_1 (Dense)              (None, 10)                5130      \n",
      "=================================================================\n",
      "Total params: 2,495,114\n",
      "Trainable params: 2,495,114\n",
      "Non-trainable params: 0\n",
      "_________________________________________________________________\n"
     ]
    }
   ],
   "source": [
    "model.summary()"
   ]
  },
  {
   "cell_type": "code",
   "execution_count": 28,
   "metadata": {
    "id": "mqaqAawRZtqo"
   },
   "outputs": [],
   "source": [
    "#Loss Function\n",
    "model.compile(loss=tf.keras.losses.categorical_crossentropy,\n",
    "              optimizer=tf.keras.optimizers.Adam(),\n",
    "              metrics=['accuracy'])"
   ]
  },
  {
   "cell_type": "code",
   "execution_count": 29,
   "metadata": {
    "id": "SiTlIIQiZtqo"
   },
   "outputs": [],
   "source": [
    "reduceLROnPlat = ReduceLROnPlateau(\n",
    "    monitor='val_loss', \n",
    "    factor=0.95,\n",
    "    patience=3,\n",
    "    verbose=1,\n",
    "    mode='min',\n",
    "    min_delta=0.0001,\n",
    "    cooldown=2,\n",
    "    min_lr=1e-5\n",
    ")"
   ]
  },
  {
   "cell_type": "code",
   "execution_count": 30,
   "metadata": {
    "id": "pgaOXSx4Ztqp"
   },
   "outputs": [],
   "source": [
    "# Les générateurs (Generators)\n",
    "batch_size = 128\n",
    "train_generator = GTZANGenerator(X_train, y_train)\n",
    "steps_per_epoch = np.ceil(len(X_train)/batch_size)\n",
    "\n",
    "validation_generator = GTZANGenerator(X_test, y_test)\n",
    "val_steps = np.ceil(len(X_test)/batch_size)"
   ]
  },
  {
   "cell_type": "code",
   "execution_count": 31,
   "metadata": {
    "id": "lHTOGNPYZtqp",
    "outputId": "d9605135-ac5e-41e3-8d73-41c9d03589a3",
    "scrolled": true
   },
   "outputs": [
    {
     "name": "stderr",
     "output_type": "stream",
     "text": [
      "C:\\Users\\YOOSURF\\anaconda3\\lib\\site-packages\\tensorflow\\python\\keras\\engine\\training.py:1844: UserWarning: `Model.fit_generator` is deprecated and will be removed in a future version. Please use `Model.fit`, which supports generators.\n",
      "  warnings.warn('`Model.fit_generator` is deprecated and '\n"
     ]
    },
    {
     "name": "stdout",
     "output_type": "stream",
     "text": [
      "Epoch 1/150\n",
      "214/214 [==============================] - 272s 1s/step - loss: 18.2847 - accuracy: 0.1253 - val_loss: 5.7582 - val_accuracy: 0.1408\n",
      "Epoch 2/150\n",
      "214/214 [==============================] - 282s 1s/step - loss: 4.8260 - accuracy: 0.1298 - val_loss: 3.1507 - val_accuracy: 0.1712\n",
      "Epoch 3/150\n",
      "214/214 [==============================] - 288s 1s/step - loss: 2.9700 - accuracy: 0.1633 - val_loss: 2.4819 - val_accuracy: 0.1941\n",
      "Epoch 4/150\n",
      "214/214 [==============================] - 323s 1s/step - loss: 2.5013 - accuracy: 0.1734 - val_loss: 2.2936 - val_accuracy: 0.1799\n",
      "Epoch 5/150\n",
      "214/214 [==============================] - 275s 1s/step - loss: 2.2830 - accuracy: 0.2365 - val_loss: 2.1749 - val_accuracy: 0.1890\n",
      "Epoch 6/150\n",
      "214/214 [==============================] - 257s 1s/step - loss: 2.2512 - accuracy: 0.1927 - val_loss: 2.1203 - val_accuracy: 0.2179\n",
      "Epoch 7/150\n",
      "214/214 [==============================] - 242s 1s/step - loss: 2.1507 - accuracy: 0.2109 - val_loss: 2.1435 - val_accuracy: 0.2128\n",
      "Epoch 8/150\n",
      "214/214 [==============================] - 291s 1s/step - loss: 2.1952 - accuracy: 0.2042 - val_loss: 2.0621 - val_accuracy: 0.1992\n",
      "Epoch 9/150\n",
      "214/214 [==============================] - 275s 1s/step - loss: 2.1396 - accuracy: 0.2246 - val_loss: 2.0680 - val_accuracy: 0.2109\n",
      "Epoch 10/150\n",
      "214/214 [==============================] - 300s 1s/step - loss: 2.1051 - accuracy: 0.2066 - val_loss: 2.0798 - val_accuracy: 0.1715\n",
      "Epoch 11/150\n",
      "214/214 [==============================] - 306s 1s/step - loss: 2.0602 - accuracy: 0.2353 - val_loss: 1.9751 - val_accuracy: 0.3025\n",
      "Epoch 12/150\n",
      "214/214 [==============================] - 280s 1s/step - loss: 2.0686 - accuracy: 0.2477 - val_loss: 1.9412 - val_accuracy: 0.2862\n",
      "Epoch 13/150\n",
      "214/214 [==============================] - 274s 1s/step - loss: 1.9953 - accuracy: 0.2560 - val_loss: 1.9467 - val_accuracy: 0.2770\n",
      "Epoch 14/150\n",
      "214/214 [==============================] - 265s 1s/step - loss: 1.9983 - accuracy: 0.2680 - val_loss: 1.9510 - val_accuracy: 0.2515\n",
      "Epoch 15/150\n",
      "214/214 [==============================] - 254s 1s/step - loss: 1.9947 - accuracy: 0.2648 - val_loss: 1.9456 - val_accuracy: 0.2965\n",
      "\n",
      "Epoch 00015: ReduceLROnPlateau reducing learning rate to 0.0009500000451225787.\n",
      "Epoch 16/150\n",
      "214/214 [==============================] - 294s 1s/step - loss: 2.0139 - accuracy: 0.2254 - val_loss: 1.9873 - val_accuracy: 0.2344\n",
      "Epoch 17/150\n",
      "214/214 [==============================] - 289s 1s/step - loss: 2.0327 - accuracy: 0.2438 - val_loss: 1.9469 - val_accuracy: 0.2689\n",
      "Epoch 18/150\n",
      "214/214 [==============================] - 287s 1s/step - loss: 1.9307 - accuracy: 0.2946 - val_loss: 1.8548 - val_accuracy: 0.3145\n",
      "Epoch 19/150\n",
      "214/214 [==============================] - 277s 1s/step - loss: 1.8684 - accuracy: 0.3055 - val_loss: 1.8876 - val_accuracy: 0.2590\n",
      "Epoch 20/150\n",
      "214/214 [==============================] - 360s 2s/step - loss: 1.9092 - accuracy: 0.3007 - val_loss: 1.8200 - val_accuracy: 0.3093\n",
      "Epoch 21/150\n",
      "214/214 [==============================] - 396s 2s/step - loss: 1.9265 - accuracy: 0.3051 - val_loss: 1.9407 - val_accuracy: 0.2960\n",
      "Epoch 22/150\n",
      "214/214 [==============================] - 564s 3s/step - loss: 1.8669 - accuracy: 0.3456 - val_loss: 1.9591 - val_accuracy: 0.2621\n",
      "Epoch 23/150\n",
      "214/214 [==============================] - 731s 3s/step - loss: 1.8722 - accuracy: 0.3345 - val_loss: 1.8473 - val_accuracy: 0.2714\n",
      "\n",
      "Epoch 00023: ReduceLROnPlateau reducing learning rate to 0.0009025000152178108.\n",
      "Epoch 24/150\n",
      "214/214 [==============================] - 475s 2s/step - loss: 1.8955 - accuracy: 0.3062 - val_loss: 1.7697 - val_accuracy: 0.3558\n",
      "Epoch 25/150\n",
      "214/214 [==============================] - 511s 2s/step - loss: 1.8057 - accuracy: 0.3722 - val_loss: 1.8216 - val_accuracy: 0.3266\n",
      "Epoch 26/150\n",
      "214/214 [==============================] - 364s 2s/step - loss: 1.8430 - accuracy: 0.3341 - val_loss: 1.8136 - val_accuracy: 0.3375\n",
      "Epoch 27/150\n",
      "214/214 [==============================] - 353s 2s/step - loss: 1.8331 - accuracy: 0.3448 - val_loss: 1.6890 - val_accuracy: 0.4188\n",
      "Epoch 28/150\n",
      "214/214 [==============================] - 479s 2s/step - loss: 1.8280 - accuracy: 0.3395 - val_loss: 1.7509 - val_accuracy: 0.4081\n",
      "Epoch 29/150\n",
      "214/214 [==============================] - 359s 2s/step - loss: 1.7501 - accuracy: 0.3959 - val_loss: 1.6641 - val_accuracy: 0.4373\n",
      "Epoch 30/150\n",
      "214/214 [==============================] - 301s 1s/step - loss: 1.7194 - accuracy: 0.4095 - val_loss: 1.7183 - val_accuracy: 0.3820\n",
      "Epoch 31/150\n",
      "214/214 [==============================] - 373s 2s/step - loss: 1.8311 - accuracy: 0.3397 - val_loss: 1.7075 - val_accuracy: 0.4248\n",
      "Epoch 32/150\n",
      "214/214 [==============================] - 307s 1s/step - loss: 1.7298 - accuracy: 0.4240 - val_loss: 1.6085 - val_accuracy: 0.4638\n",
      "Epoch 33/150\n",
      "214/214 [==============================] - 301s 1s/step - loss: 1.7006 - accuracy: 0.4202 - val_loss: 1.6711 - val_accuracy: 0.3959\n",
      "Epoch 34/150\n",
      "214/214 [==============================] - 302s 1s/step - loss: 1.6471 - accuracy: 0.4269 - val_loss: 1.6718 - val_accuracy: 0.4530\n",
      "Epoch 35/150\n",
      "214/214 [==============================] - 350s 2s/step - loss: 1.7645 - accuracy: 0.4015 - val_loss: 1.5415 - val_accuracy: 0.4927\n",
      "Epoch 36/150\n",
      "214/214 [==============================] - 296s 1s/step - loss: 1.7106 - accuracy: 0.4014 - val_loss: 1.6047 - val_accuracy: 0.4681\n",
      "Epoch 37/150\n",
      "214/214 [==============================] - 258s 1s/step - loss: 1.6619 - accuracy: 0.4415 - val_loss: 1.7274 - val_accuracy: 0.3684\n",
      "Epoch 38/150\n",
      "214/214 [==============================] - 250s 1s/step - loss: 1.7090 - accuracy: 0.3909 - val_loss: 1.6423 - val_accuracy: 0.4260\n",
      "\n",
      "Epoch 00038: ReduceLROnPlateau reducing learning rate to 0.0008573750033974647.\n",
      "Epoch 39/150\n",
      "214/214 [==============================] - 274s 1s/step - loss: 1.6867 - accuracy: 0.4246 - val_loss: 1.5487 - val_accuracy: 0.4783\n",
      "Epoch 40/150\n",
      "214/214 [==============================] - 248s 1s/step - loss: 1.6238 - accuracy: 0.4760 - val_loss: 1.5428 - val_accuracy: 0.4986\n",
      "Epoch 41/150\n",
      "214/214 [==============================] - 258s 1s/step - loss: 1.6668 - accuracy: 0.4513 - val_loss: 1.5528 - val_accuracy: 0.5002\n",
      "Epoch 42/150\n",
      "214/214 [==============================] - 257s 1s/step - loss: 1.6583 - accuracy: 0.4384 - val_loss: 1.6595 - val_accuracy: 0.4339\n",
      "\n",
      "Epoch 00042: ReduceLROnPlateau reducing learning rate to 0.0008145062311086804.\n",
      "Epoch 43/150\n",
      "214/214 [==============================] - 262s 1s/step - loss: 1.5245 - accuracy: 0.5120 - val_loss: 1.4990 - val_accuracy: 0.4839\n",
      "Epoch 44/150\n",
      "214/214 [==============================] - 249s 1s/step - loss: 1.6012 - accuracy: 0.4610 - val_loss: 1.4813 - val_accuracy: 0.5384\n",
      "Epoch 45/150\n",
      "214/214 [==============================] - 254s 1s/step - loss: 1.5267 - accuracy: 0.4823 - val_loss: 1.6047 - val_accuracy: 0.4399\n",
      "Epoch 46/150\n",
      "214/214 [==============================] - 234s 1s/step - loss: 1.6369 - accuracy: 0.4508 - val_loss: 1.5469 - val_accuracy: 0.4737\n",
      "Epoch 47/150\n",
      "214/214 [==============================] - 234s 1s/step - loss: 1.5960 - accuracy: 0.4907 - val_loss: 1.4730 - val_accuracy: 0.4939\n",
      "Epoch 48/150\n",
      "214/214 [==============================] - 233s 1s/step - loss: 1.5539 - accuracy: 0.5005 - val_loss: 1.4908 - val_accuracy: 0.5127\n",
      "Epoch 49/150\n",
      "214/214 [==============================] - 236s 1s/step - loss: 1.5667 - accuracy: 0.4909 - val_loss: 1.4451 - val_accuracy: 0.5172\n",
      "Epoch 50/150\n",
      "214/214 [==============================] - 235s 1s/step - loss: 1.4816 - accuracy: 0.5171 - val_loss: 1.4582 - val_accuracy: 0.5370\n",
      "Epoch 51/150\n",
      "214/214 [==============================] - 235s 1s/step - loss: 1.4580 - accuracy: 0.5207 - val_loss: 1.5142 - val_accuracy: 0.4922\n",
      "Epoch 52/150\n",
      "214/214 [==============================] - 230s 1s/step - loss: 1.5085 - accuracy: 0.4916 - val_loss: 1.5658 - val_accuracy: 0.4738\n",
      "\n",
      "Epoch 00052: ReduceLROnPlateau reducing learning rate to 0.0007737808919046074.\n",
      "Epoch 53/150\n",
      "214/214 [==============================] - 233s 1s/step - loss: 1.4297 - accuracy: 0.5239 - val_loss: 1.4690 - val_accuracy: 0.5122\n",
      "Epoch 54/150\n",
      "214/214 [==============================] - 229s 1s/step - loss: 1.4367 - accuracy: 0.5308 - val_loss: 1.4827 - val_accuracy: 0.5345\n",
      "Epoch 55/150\n",
      "214/214 [==============================] - 229s 1s/step - loss: 1.4935 - accuracy: 0.5222 - val_loss: 1.4506 - val_accuracy: 0.4932\n",
      "Epoch 56/150\n",
      "214/214 [==============================] - 231s 1s/step - loss: 1.3833 - accuracy: 0.5476 - val_loss: 1.4670 - val_accuracy: 0.5063\n",
      "\n",
      "Epoch 00056: ReduceLROnPlateau reducing learning rate to 0.000735091819660738.\n",
      "Epoch 57/150\n",
      "214/214 [==============================] - 232s 1s/step - loss: 1.4401 - accuracy: 0.5243 - val_loss: 1.4906 - val_accuracy: 0.4966\n",
      "Epoch 58/150\n",
      "214/214 [==============================] - 231s 1s/step - loss: 1.5117 - accuracy: 0.5156 - val_loss: 1.4921 - val_accuracy: 0.5319\n",
      "Epoch 59/150\n",
      "214/214 [==============================] - 237s 1s/step - loss: 1.4582 - accuracy: 0.5430 - val_loss: 1.4766 - val_accuracy: 0.5226\n",
      "Epoch 60/150\n",
      "214/214 [==============================] - 242s 1s/step - loss: 1.4352 - accuracy: 0.5438 - val_loss: 1.4472 - val_accuracy: 0.5452\n",
      "\n",
      "Epoch 00060: ReduceLROnPlateau reducing learning rate to 0.0006983372120885178.\n",
      "Epoch 61/150\n",
      "214/214 [==============================] - 230s 1s/step - loss: 1.4236 - accuracy: 0.5440 - val_loss: 1.4294 - val_accuracy: 0.5596\n",
      "Epoch 62/150\n",
      "214/214 [==============================] - 228s 1s/step - loss: 1.3676 - accuracy: 0.5616 - val_loss: 1.4279 - val_accuracy: 0.5331\n",
      "Epoch 63/150\n",
      "214/214 [==============================] - 227s 1s/step - loss: 1.3918 - accuracy: 0.5522 - val_loss: 1.4500 - val_accuracy: 0.5470\n",
      "Epoch 64/150\n",
      "214/214 [==============================] - 253s 1s/step - loss: 1.4970 - accuracy: 0.4977 - val_loss: 1.3907 - val_accuracy: 0.5620\n",
      "Epoch 65/150\n",
      "214/214 [==============================] - 296s 1s/step - loss: 1.2789 - accuracy: 0.5908 - val_loss: 1.3553 - val_accuracy: 0.5710\n",
      "Epoch 66/150\n",
      "214/214 [==============================] - 269s 1s/step - loss: 1.3536 - accuracy: 0.5736 - val_loss: 1.5488 - val_accuracy: 0.4891\n",
      "Epoch 67/150\n",
      "214/214 [==============================] - 263s 1s/step - loss: 1.3894 - accuracy: 0.5627 - val_loss: 1.3851 - val_accuracy: 0.5780\n",
      "Epoch 68/150\n",
      "214/214 [==============================] - 263s 1s/step - loss: 1.3042 - accuracy: 0.5910 - val_loss: 1.2917 - val_accuracy: 0.6029\n",
      "Epoch 69/150\n",
      "214/214 [==============================] - 242s 1s/step - loss: 1.3518 - accuracy: 0.5745 - val_loss: 1.3389 - val_accuracy: 0.5836\n",
      "Epoch 70/150\n",
      "214/214 [==============================] - 232s 1s/step - loss: 1.3663 - accuracy: 0.5519 - val_loss: 1.3029 - val_accuracy: 0.5754\n",
      "Epoch 71/150\n",
      "214/214 [==============================] - 233s 1s/step - loss: 1.2893 - accuracy: 0.6035 - val_loss: 1.3276 - val_accuracy: 0.5701\n",
      "\n",
      "Epoch 00071: ReduceLROnPlateau reducing learning rate to 0.0006634203542489559.\n",
      "Epoch 72/150\n",
      "214/214 [==============================] - 233s 1s/step - loss: 1.3447 - accuracy: 0.5790 - val_loss: 1.4188 - val_accuracy: 0.5496\n",
      "Epoch 73/150\n",
      "214/214 [==============================] - 240s 1s/step - loss: 1.2812 - accuracy: 0.5962 - val_loss: 1.3007 - val_accuracy: 0.5919\n",
      "Epoch 74/150\n",
      "214/214 [==============================] - 246s 1s/step - loss: 1.2896 - accuracy: 0.6018 - val_loss: 1.2678 - val_accuracy: 0.6101\n",
      "Epoch 75/150\n",
      "214/214 [==============================] - 231s 1s/step - loss: 1.3561 - accuracy: 0.5746 - val_loss: 1.2545 - val_accuracy: 0.6213\n",
      "Epoch 76/150\n",
      "214/214 [==============================] - 231s 1s/step - loss: 1.2160 - accuracy: 0.6309 - val_loss: 1.2946 - val_accuracy: 0.6094\n",
      "Epoch 77/150\n",
      "214/214 [==============================] - 239s 1s/step - loss: 1.2016 - accuracy: 0.6274 - val_loss: 1.2598 - val_accuracy: 0.6129\n",
      "Epoch 78/150\n",
      "214/214 [==============================] - 339s 2s/step - loss: 1.2344 - accuracy: 0.6136 - val_loss: 1.1967 - val_accuracy: 0.6230\n",
      "Epoch 79/150\n",
      "214/214 [==============================] - 336s 2s/step - loss: 1.1966 - accuracy: 0.6344 - val_loss: 1.2863 - val_accuracy: 0.5929\n",
      "Epoch 80/150\n",
      "214/214 [==============================] - 579s 3s/step - loss: 1.2892 - accuracy: 0.5999 - val_loss: 1.2253 - val_accuracy: 0.6270\n",
      "Epoch 81/150\n",
      "214/214 [==============================] - 320s 1s/step - loss: 1.1901 - accuracy: 0.6315 - val_loss: 1.3300 - val_accuracy: 0.6123\n",
      "\n",
      "Epoch 00081: ReduceLROnPlateau reducing learning rate to 0.0006302493420662358.\n",
      "Epoch 82/150\n",
      "214/214 [==============================] - 307s 1s/step - loss: 1.1684 - accuracy: 0.6470 - val_loss: 1.3215 - val_accuracy: 0.6124\n",
      "Epoch 83/150\n",
      "214/214 [==============================] - 242s 1s/step - loss: 1.3342 - accuracy: 0.5896 - val_loss: 1.2566 - val_accuracy: 0.6070\n",
      "Epoch 84/150\n",
      "214/214 [==============================] - 237s 1s/step - loss: 1.3200 - accuracy: 0.5771 - val_loss: 1.4037 - val_accuracy: 0.6002\n",
      "Epoch 85/150\n",
      "214/214 [==============================] - 236s 1s/step - loss: 1.2130 - accuracy: 0.6337 - val_loss: 1.2467 - val_accuracy: 0.6388\n",
      "\n",
      "Epoch 00085: ReduceLROnPlateau reducing learning rate to 0.0005987368611386045.\n",
      "Epoch 86/150\n",
      "214/214 [==============================] - 241s 1s/step - loss: 1.2340 - accuracy: 0.6212 - val_loss: 1.2738 - val_accuracy: 0.5975\n",
      "Epoch 87/150\n",
      "214/214 [==============================] - 238s 1s/step - loss: 1.1635 - accuracy: 0.6435 - val_loss: 1.2853 - val_accuracy: 0.5951\n",
      "Epoch 88/150\n",
      "214/214 [==============================] - 239s 1s/step - loss: 1.1389 - accuracy: 0.6515 - val_loss: 1.2096 - val_accuracy: 0.6191\n",
      "Epoch 89/150\n",
      "214/214 [==============================] - 235s 1s/step - loss: 1.3043 - accuracy: 0.6012 - val_loss: 1.2422 - val_accuracy: 0.6262\n",
      "\n",
      "Epoch 00089: ReduceLROnPlateau reducing learning rate to 0.0005688000208465382.\n",
      "Epoch 90/150\n",
      "214/214 [==============================] - 239s 1s/step - loss: 1.2246 - accuracy: 0.6180 - val_loss: 1.2173 - val_accuracy: 0.6294\n",
      "Epoch 91/150\n",
      "214/214 [==============================] - 249s 1s/step - loss: 1.1255 - accuracy: 0.6543 - val_loss: 1.2658 - val_accuracy: 0.6160\n",
      "Epoch 92/150\n",
      "214/214 [==============================] - 230s 1s/step - loss: 1.0969 - accuracy: 0.6687 - val_loss: 1.2253 - val_accuracy: 0.6357\n",
      "Epoch 93/150\n",
      "214/214 [==============================] - 229s 1s/step - loss: 1.1041 - accuracy: 0.6763 - val_loss: 1.2080 - val_accuracy: 0.6472\n",
      "\n",
      "Epoch 00093: ReduceLROnPlateau reducing learning rate to 0.0005403600225690752.\n",
      "Epoch 94/150\n",
      "214/214 [==============================] - 229s 1s/step - loss: 1.1704 - accuracy: 0.6315 - val_loss: 1.1818 - val_accuracy: 0.6466\n",
      "Epoch 95/150\n",
      "214/214 [==============================] - 232s 1s/step - loss: 1.1747 - accuracy: 0.6484 - val_loss: 1.1744 - val_accuracy: 0.6562\n",
      "Epoch 96/150\n",
      "214/214 [==============================] - 265s 1s/step - loss: 1.2542 - accuracy: 0.6085 - val_loss: 1.1053 - val_accuracy: 0.6619\n",
      "Epoch 97/150\n",
      "214/214 [==============================] - 325s 1s/step - loss: 1.0898 - accuracy: 0.6665 - val_loss: 1.1939 - val_accuracy: 0.6308\n",
      "Epoch 98/150\n",
      "214/214 [==============================] - 315s 1s/step - loss: 1.1106 - accuracy: 0.6640 - val_loss: 1.1994 - val_accuracy: 0.6459\n",
      "Epoch 99/150\n",
      "214/214 [==============================] - 312s 1s/step - loss: 1.1701 - accuracy: 0.6328 - val_loss: 1.1329 - val_accuracy: 0.6612\n",
      "\n",
      "Epoch 00099: ReduceLROnPlateau reducing learning rate to 0.0005133419937919825.\n",
      "Epoch 100/150\n",
      "214/214 [==============================] - 303s 1s/step - loss: 1.0718 - accuracy: 0.6700 - val_loss: 1.1221 - val_accuracy: 0.6608\n",
      "Epoch 101/150\n",
      "214/214 [==============================] - 291s 1s/step - loss: 1.0790 - accuracy: 0.6835 - val_loss: 1.1597 - val_accuracy: 0.6382\n",
      "Epoch 102/150\n",
      "214/214 [==============================] - 263s 1s/step - loss: 1.0648 - accuracy: 0.6743 - val_loss: 1.1806 - val_accuracy: 0.6292\n",
      "Epoch 103/150\n",
      "214/214 [==============================] - 282s 1s/step - loss: 1.0915 - accuracy: 0.6713 - val_loss: 1.1615 - val_accuracy: 0.6430\n",
      "\n",
      "Epoch 00103: ReduceLROnPlateau reducing learning rate to 0.0004876748775132.\n",
      "Epoch 104/150\n",
      "214/214 [==============================] - 269s 1s/step - loss: 1.0811 - accuracy: 0.6758 - val_loss: 1.1754 - val_accuracy: 0.6311\n",
      "Epoch 105/150\n",
      "214/214 [==============================] - 280s 1s/step - loss: 1.1173 - accuracy: 0.6496 - val_loss: 1.0838 - val_accuracy: 0.6681\n",
      "Epoch 106/150\n",
      "214/214 [==============================] - 274s 1s/step - loss: 1.0492 - accuracy: 0.6947 - val_loss: 1.2339 - val_accuracy: 0.6136\n",
      "Epoch 107/150\n",
      "214/214 [==============================] - 274s 1s/step - loss: 1.0573 - accuracy: 0.6745 - val_loss: 1.0909 - val_accuracy: 0.6707\n",
      "Epoch 108/150\n",
      "214/214 [==============================] - 273s 1s/step - loss: 1.0859 - accuracy: 0.6724 - val_loss: 1.1203 - val_accuracy: 0.6651\n",
      "\n",
      "Epoch 00108: ReduceLROnPlateau reducing learning rate to 0.00046329112810781223.\n",
      "Epoch 109/150\n",
      "214/214 [==============================] - 257s 1s/step - loss: 1.1191 - accuracy: 0.6622 - val_loss: 1.0672 - val_accuracy: 0.6795\n",
      "Epoch 110/150\n",
      "214/214 [==============================] - 260s 1s/step - loss: 1.0067 - accuracy: 0.7102 - val_loss: 1.1551 - val_accuracy: 0.6462\n",
      "Epoch 111/150\n",
      "214/214 [==============================] - 233s 1s/step - loss: 1.1407 - accuracy: 0.6458 - val_loss: 1.1751 - val_accuracy: 0.6365\n",
      "Epoch 112/150\n",
      "214/214 [==============================] - 262s 1s/step - loss: 1.0479 - accuracy: 0.6871 - val_loss: 1.0981 - val_accuracy: 0.6821\n",
      "\n",
      "Epoch 00112: ReduceLROnPlateau reducing learning rate to 0.00044012657308485355.\n",
      "Epoch 113/150\n",
      "214/214 [==============================] - 305s 1s/step - loss: 1.0340 - accuracy: 0.6872 - val_loss: 1.0966 - val_accuracy: 0.6663\n",
      "Epoch 114/150\n",
      "214/214 [==============================] - 301s 1s/step - loss: 0.9502 - accuracy: 0.7131 - val_loss: 1.1182 - val_accuracy: 0.6537\n",
      "Epoch 115/150\n",
      "214/214 [==============================] - 305s 1s/step - loss: 1.0653 - accuracy: 0.6773 - val_loss: 1.0643 - val_accuracy: 0.6782\n",
      "Epoch 116/150\n",
      "214/214 [==============================] - 303s 1s/step - loss: 1.0144 - accuracy: 0.7010 - val_loss: 1.1325 - val_accuracy: 0.6484\n",
      "Epoch 117/150\n",
      "214/214 [==============================] - 307s 1s/step - loss: 1.0141 - accuracy: 0.6931 - val_loss: 1.1028 - val_accuracy: 0.6658\n",
      "Epoch 118/150\n",
      "214/214 [==============================] - 311s 1s/step - loss: 1.0209 - accuracy: 0.6930 - val_loss: 1.0760 - val_accuracy: 0.6675\n",
      "\n",
      "Epoch 00118: ReduceLROnPlateau reducing learning rate to 0.00041812024719547477.\n",
      "Epoch 119/150\n",
      "214/214 [==============================] - 307s 1s/step - loss: 0.9743 - accuracy: 0.7135 - val_loss: 1.0914 - val_accuracy: 0.6630\n",
      "Epoch 120/150\n",
      "214/214 [==============================] - 301s 1s/step - loss: 1.0433 - accuracy: 0.6888 - val_loss: 1.0511 - val_accuracy: 0.6858\n",
      "Epoch 121/150\n",
      "214/214 [==============================] - 302s 1s/step - loss: 0.9638 - accuracy: 0.7131 - val_loss: 1.1433 - val_accuracy: 0.6359\n",
      "Epoch 122/150\n",
      "214/214 [==============================] - 348s 2s/step - loss: 0.9899 - accuracy: 0.6963 - val_loss: 1.2462 - val_accuracy: 0.6318\n",
      "Epoch 123/150\n",
      "214/214 [==============================] - 318s 1s/step - loss: 1.0123 - accuracy: 0.6989 - val_loss: 1.1088 - val_accuracy: 0.6736\n",
      "\n",
      "Epoch 00123: ReduceLROnPlateau reducing learning rate to 0.00039721422654110934.\n",
      "Epoch 124/150\n",
      "214/214 [==============================] - 267s 1s/step - loss: 0.9339 - accuracy: 0.7200 - val_loss: 1.0900 - val_accuracy: 0.6724\n",
      "Epoch 125/150\n",
      "214/214 [==============================] - 257s 1s/step - loss: 1.0410 - accuracy: 0.6721 - val_loss: 1.0844 - val_accuracy: 0.6676\n",
      "Epoch 126/150\n",
      "214/214 [==============================] - 251s 1s/step - loss: 0.9278 - accuracy: 0.7233 - val_loss: 1.0533 - val_accuracy: 0.6889\n",
      "Epoch 127/150\n",
      "214/214 [==============================] - 264s 1s/step - loss: 0.9886 - accuracy: 0.6967 - val_loss: 1.0382 - val_accuracy: 0.6885\n",
      "Epoch 128/150\n",
      "214/214 [==============================] - 255s 1s/step - loss: 0.8992 - accuracy: 0.7315 - val_loss: 1.0780 - val_accuracy: 0.6693\n",
      "Epoch 129/150\n",
      "214/214 [==============================] - 255s 1s/step - loss: 0.9620 - accuracy: 0.7098 - val_loss: 1.0456 - val_accuracy: 0.6850\n",
      "Epoch 130/150\n",
      "214/214 [==============================] - 259s 1s/step - loss: 0.9990 - accuracy: 0.7109 - val_loss: 1.1091 - val_accuracy: 0.6678\n",
      "\n",
      "Epoch 00130: ReduceLROnPlateau reducing learning rate to 0.00037735351797891776.\n",
      "Epoch 131/150\n",
      "214/214 [==============================] - 262s 1s/step - loss: 0.9014 - accuracy: 0.7335 - val_loss: 1.0125 - val_accuracy: 0.6943\n",
      "Epoch 132/150\n",
      "214/214 [==============================] - 255s 1s/step - loss: 0.9020 - accuracy: 0.7414 - val_loss: 1.0543 - val_accuracy: 0.6809\n",
      "Epoch 133/150\n",
      "214/214 [==============================] - 256s 1s/step - loss: 0.8987 - accuracy: 0.7311 - val_loss: 1.0723 - val_accuracy: 0.6710\n",
      "Epoch 134/150\n",
      "214/214 [==============================] - 247s 1s/step - loss: 0.9371 - accuracy: 0.7308 - val_loss: 1.1126 - val_accuracy: 0.6547\n",
      "\n",
      "Epoch 00134: ReduceLROnPlateau reducing learning rate to 0.00035848583793267607.\n",
      "Epoch 135/150\n",
      "214/214 [==============================] - 229s 1s/step - loss: 0.9074 - accuracy: 0.7306 - val_loss: 1.1335 - val_accuracy: 0.6546\n",
      "Epoch 136/150\n",
      "214/214 [==============================] - 233s 1s/step - loss: 0.9342 - accuracy: 0.7256 - val_loss: 1.0524 - val_accuracy: 0.6804\n",
      "Epoch 137/150\n",
      "214/214 [==============================] - 227s 1s/step - loss: 0.9110 - accuracy: 0.7343 - val_loss: 1.0428 - val_accuracy: 0.6761\n",
      "Epoch 138/150\n",
      "214/214 [==============================] - 227s 1s/step - loss: 0.9571 - accuracy: 0.7112 - val_loss: 1.1416 - val_accuracy: 0.6500\n",
      "\n",
      "Epoch 00138: ReduceLROnPlateau reducing learning rate to 0.00034056155709549785.\n",
      "Epoch 139/150\n",
      "214/214 [==============================] - 225s 1s/step - loss: 0.9146 - accuracy: 0.7250 - val_loss: 1.1673 - val_accuracy: 0.6439\n",
      "Epoch 140/150\n",
      "214/214 [==============================] - 225s 1s/step - loss: 0.8995 - accuracy: 0.7366 - val_loss: 1.0626 - val_accuracy: 0.6715\n",
      "Epoch 141/150\n",
      "214/214 [==============================] - 225s 1s/step - loss: 0.9272 - accuracy: 0.7266 - val_loss: 1.0209 - val_accuracy: 0.7011\n",
      "Epoch 142/150\n",
      "214/214 [==============================] - 24074s 113s/step - loss: 0.8701 - accuracy: 0.7375 - val_loss: 0.9845 - val_accuracy: 0.7057\n",
      "Epoch 143/150\n",
      "214/214 [==============================] - 369s 2s/step - loss: 0.9149 - accuracy: 0.7247 - val_loss: 1.1005 - val_accuracy: 0.6534\n",
      "Epoch 144/150\n",
      "214/214 [==============================] - 317s 1s/step - loss: 0.8706 - accuracy: 0.7523 - val_loss: 1.0247 - val_accuracy: 0.6923\n",
      "Epoch 145/150\n",
      "214/214 [==============================] - 372s 2s/step - loss: 0.9358 - accuracy: 0.7124 - val_loss: 1.1081 - val_accuracy: 0.6855\n",
      "\n",
      "Epoch 00145: ReduceLROnPlateau reducing learning rate to 0.00032353347924072293.\n",
      "Epoch 146/150\n",
      "214/214 [==============================] - 299s 1s/step - loss: 0.9402 - accuracy: 0.7252 - val_loss: 0.9948 - val_accuracy: 0.6953\n",
      "Epoch 147/150\n",
      "214/214 [==============================] - 281s 1s/step - loss: 0.8909 - accuracy: 0.7368 - val_loss: 0.9889 - val_accuracy: 0.7002\n",
      "Epoch 148/150\n",
      "214/214 [==============================] - 277s 1s/step - loss: 0.8711 - accuracy: 0.7360 - val_loss: 1.0356 - val_accuracy: 0.6865\n",
      "Epoch 149/150\n",
      "214/214 [==============================] - 350s 2s/step - loss: 0.9005 - accuracy: 0.7386 - val_loss: 0.9915 - val_accuracy: 0.6996\n",
      "\n",
      "Epoch 00149: ReduceLROnPlateau reducing learning rate to 0.00030735681357327847.\n",
      "Epoch 150/150\n",
      "214/214 [==============================] - 299s 1s/step - loss: 0.9071 - accuracy: 0.7322 - val_loss: 1.0133 - val_accuracy: 0.6963\n"
     ]
    }
   ],
   "source": [
    "#Entrainer le modèle en ajustant les paramètres et les hyperparamètre \n",
    "hist = model.fit_generator(\n",
    "    train_generator,\n",
    "    steps_per_epoch=steps_per_epoch,\n",
    "    validation_data=validation_generator,\n",
    "    validation_steps=val_steps,\n",
    "    epochs=150,\n",
    "    verbose=1,\n",
    "    callbacks=[reduceLROnPlat])"
   ]
  },
  {
   "cell_type": "code",
   "execution_count": 32,
   "metadata": {
    "id": "nZvOaC-_Ztqq",
    "outputId": "626bde07-9314-4e02-ee92-fb0203562cb1"
   },
   "outputs": [
    {
     "name": "stdout",
     "output_type": "stream",
     "text": [
      "val_loss = 1.023 and val_acc = 0.702\n"
     ]
    }
   ],
   "source": [
    "#Evaluer loss et l'accuracy \n",
    "score = model.evaluate(X_test, y_test, verbose=0)\n",
    "print(\"val_loss = {:.3f} and val_acc = {:.3f}\".format(score[0], score[1]))"
   ]
  },
  {
   "cell_type": "code",
   "execution_count": 33,
   "metadata": {
    "id": "8Z9vza9nZtqr",
    "outputId": "00433ef2-131f-4bf3-877c-c434c6114760"
   },
   "outputs": [
    {
     "data": {
      "image/png": "[encoded data removed]",
      "text/plain": [
       "<Figure size 1080x504 with 2 Axes>"
      ]
     },
     "metadata": {
      "needs_background": "light"
     },
     "output_type": "display_data"
    }
   ],
   "source": [
    "#Afficher la courbe d'Accuracy et le loss\n",
    "#On remarque que l'apprentissage est effectué puisque les courbe d'accuracy du train et de test augmentent \n",
    "#et sont proches (Pas d'Overfitting)\n",
    "#En meme temps la courbe du loss diminue \n",
    "\n",
    "plt.figure(figsize=(15,7))\n",
    "\n",
    "plt.subplot(1,2,1)\n",
    "plt.plot(hist.history['accuracy'], label='train')\n",
    "plt.plot(hist.history['val_accuracy'], label='validation')\n",
    "plt.title('Accuracy')\n",
    "plt.xlabel('Epochs')\n",
    "plt.ylabel('Accuracy')\n",
    "plt.legend()\n",
    "\n",
    "plt.subplot(1,2,2)\n",
    "plt.plot(hist.history['loss'], label='train')\n",
    "plt.plot(hist.history['val_loss'], label='validation')\n",
    "plt.title('Loss')\n",
    "plt.xlabel('Epochs')\n",
    "plt.ylabel('Loss')\n",
    "plt.legend()\n",
    "\n",
    "plt.tight_layout()\n",
    "plt.show()"
   ]
  },
  {
   "cell_type": "code",
   "execution_count": 34,
   "metadata": {
    "id": "mrf4BHrfZtqt"
   },
   "outputs": [],
   "source": [
    "#Afficher la matrice de corrélation pour etudier la dépendance entre les classes des genres musicaux \n",
    "def plot_confusion_matrix(cm, classes,\n",
    "                          normalize=False,\n",
    "                          title='Confusion matrix',\n",
    "                          cmap=plt.cm.Blues):\n",
    "   \n",
    "    if normalize:\n",
    "        cm = cm.astype('float') / cm.sum(axis=1)[:, np.newaxis]\n",
    "        print(\"Normalized confusion matrix\")\n",
    "    else:\n",
    "        print('Confusion matrix, without normalization')\n",
    "\n",
    "    plt.imshow(cm, interpolation='nearest', cmap=cmap)\n",
    "    plt.title(title)\n",
    "    plt.colorbar()\n",
    "    tick_marks = np.arange(len(classes))\n",
    "    plt.xticks(tick_marks, classes, rotation=45)\n",
    "    plt.yticks(tick_marks, classes)\n",
    "\n",
    "    fmt = '.2f' if normalize else 'd'\n",
    "    thresh = cm.max() / 2.\n",
    "    for i, j in itertools.product(range(cm.shape[0]), range(cm.shape[1])):\n",
    "        plt.text(j, i, format(cm[i, j], fmt),\n",
    "                 horizontalalignment=\"center\",\n",
    "                 color=\"white\" if cm[i, j] > thresh else \"black\")\n",
    "\n",
    "    plt.tight_layout()\n",
    "    plt.ylabel('True label')\n",
    "    plt.xlabel('Predicted label')"
   ]
  },
  {
   "cell_type": "code",
   "execution_count": 35,
   "metadata": {
    "id": "FX2zPCM1Ztqt"
   },
   "outputs": [],
   "source": [
    "preds = np.argmax(model.predict(X_test), axis = 1)\n",
    "y_orig = np.argmax(y_test, axis = 1)\n",
    "cm = confusion_matrix(preds, y_orig)"
   ]
  },
  {
   "cell_type": "code",
   "execution_count": 36,
   "metadata": {
    "id": "bYYSZGVPZtqu",
    "outputId": "49603534-8da7-43d3-fe1b-c681a66d68fb"
   },
   "outputs": [
    {
     "name": "stdout",
     "output_type": "stream",
     "text": [
      "Normalized confusion matrix\n"
     ]
    },
    {
     "data": {
      "image/png": "[encoded data removed]",
      "text/plain": [
       "<Figure size 720x720 with 2 Axes>"
      ]
     },
     "metadata": {
      "needs_background": "light"
     },
     "output_type": "display_data"
    }
   ],
   "source": [
    "keys = OrderedDict(sorted(genres.items(), key=lambda t: t[1])).keys()\n",
    "\n",
    "plt.figure(figsize=(10,10))\n",
    "\n",
    "plot_confusion_matrix(cm, keys, normalize=True)"
   ]
  },
  {
   "cell_type": "code",
   "execution_count": 37,
   "metadata": {
    "id": "n5w1NUBMZtqv"
   },
   "outputs": [],
   "source": [
    "#Vote Majoritaire \n",
    "def majority_vote(scores):\n",
    "    values, counts = np.unique(scores,return_counts=True)\n",
    "    ind = np.argmax(counts)\n",
    "    return values[ind]"
   ]
  },
  {
   "cell_type": "code",
   "execution_count": 38,
   "metadata": {
    "id": "ID78HERcZtqv"
   },
   "outputs": [],
   "source": [
    "preds = model.predict(X_test, batch_size=128, verbose=0)"
   ]
  },
  {
   "cell_type": "code",
   "execution_count": 39,
   "metadata": {
    "id": "qfEV7FDqZtqw"
   },
   "outputs": [],
   "source": [
    "scores_songs = np.split(np.argmax(preds, axis=1), 300)\n",
    "scores_songs = [majority_vote(scores) for scores in scores_songs]"
   ]
  },
  {
   "cell_type": "code",
   "execution_count": 40,
   "metadata": {
    "id": "eByzIn7kZtqw"
   },
   "outputs": [],
   "source": [
    "label = np.split(np.argmax(y_test, axis=1), 300)\n",
    "label = [majority_vote(l) for l in label]"
   ]
  },
  {
   "cell_type": "code",
   "execution_count": 41,
   "metadata": {
    "id": "YLHTNbzqZtqx",
    "outputId": "9e8fc084-2179-417a-b3d9-6a22402e6138",
    "scrolled": true
   },
   "outputs": [
    {
     "name": "stdout",
     "output_type": "stream",
     "text": [
      "majority voting system (acc) = 0.793\n"
     ]
    }
   ],
   "source": [
    "from sklearn.metrics import accuracy_score\n",
    "\n",
    "print(\"majority voting system (acc) = {:.3f}\".format(accuracy_score(label, scores_songs)))"
   ]
  }
 ],
 "metadata": {
  "colab": {
   "name": "1.1-custom_cnn_2d.ipynb",
   "provenance": []
  },
  "kernelspec": {
   "display_name": "Python 3",
   "language": "python",
   "name": "python3"
  },
  "language_info": {
   "codemirror_mode": {
    "name": "ipython",
    "version": 3
   },
   "file_extension": ".py",
   "mimetype": "text/x-python",
   "name": "python",
   "nbconvert_exporter": "python",
   "pygments_lexer": "ipython3",
   "version": "3.8.3"
  }
 },
 "nbformat": 4,
 "nbformat_minor": 1
}
